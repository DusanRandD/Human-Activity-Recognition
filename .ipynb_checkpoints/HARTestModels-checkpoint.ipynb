{
 "cells": [
  {
   "cell_type": "code",
   "execution_count": 1,
   "metadata": {},
   "outputs": [],
   "source": [
    "# Created by Dusan Radivojevic, 2020\n",
    "# This script is for statistical testing of models created in HARCreateModels script\n",
    "# Load dataset\n",
    "import numpy as np\n",
    "X_train=[]\n",
    "X_validation=[]\n",
    "X_test=[]\n",
    "Y_train=[]\n",
    "Y_validation=[]\n",
    "Y_test=[]\n",
    "with open('Train1.npy', 'rb') as f:\n",
    "    X_train = np.load(f)\n",
    "    Y_train = np.load(f)\n",
    "with open('Validation1.npy', 'rb') as f1:\n",
    "    X_validation = np.load(f1)\n",
    "    Y_validation = np.load(f1)\n",
    "with open('Test1.npy', 'rb') as f2:\n",
    "    X_test = np.load(f2)\n",
    "    Y_test = np.load(f2)\n"
   ]
  },
  {
   "cell_type": "code",
   "execution_count": 2,
   "metadata": {},
   "outputs": [
    {
     "name": "stderr",
     "output_type": "stream",
     "text": [
      "Using TensorFlow backend.\n"
     ]
    }
   ],
   "source": [
    "# Import DNN model from file\n",
    "from keras.models import load_model\n",
    "import tensorflow as tf\n",
    "model = tf.keras.models.load_model('DNN.h5')"
   ]
  },
  {
   "cell_type": "code",
   "execution_count": 3,
   "metadata": {},
   "outputs": [],
   "source": [
    "# Import RF and KNC models from file\n",
    "import joblib\n",
    "model1 = joblib.load('RF.sav')\n",
    "model2 = joblib.load('KNC.sav')"
   ]
  },
  {
   "cell_type": "code",
   "execution_count": 6,
   "metadata": {},
   "outputs": [
    {
     "name": "stdout",
     "output_type": "stream",
     "text": [
      "i 0\n",
      "i 1\n",
      "i 2\n",
      "i 3\n",
      "i 4\n",
      "i 5\n",
      "i 6\n",
      "i 7\n",
      "i 8\n",
      "i 9\n",
      "i 10\n",
      "i 11\n",
      "i 12\n",
      "i 13\n",
      "i 14\n",
      "i 15\n",
      "i 16\n",
      "i 17\n",
      "i 18\n",
      "i 19\n",
      "i 20\n",
      "i 21\n",
      "i 22\n",
      "i 23\n",
      "i 24\n",
      "i 25\n",
      "i 26\n",
      "i 27\n",
      "i 28\n",
      "i 29\n",
      "i 30\n",
      "i 31\n",
      "i 32\n",
      "i 33\n",
      "i 34\n",
      "i 35\n",
      "i 36\n",
      "i 37\n",
      "i 38\n",
      "i 39\n",
      "i 40\n",
      "i 41\n",
      "i 42\n",
      "i 43\n",
      "i 44\n",
      "i 45\n",
      "i 46\n",
      "i 47\n",
      "i 48\n",
      "i 49\n"
     ]
    }
   ],
   "source": [
    "# Testing with 50 random samples from test dataset\n",
    "from scipy import stats\n",
    "fl = open(\"Testing.txt\", \"w\")\n",
    "fl.write(\"Number,\\tDNNbrP,\\tRFbrP,\\tKNCbrP,\\tTTS1,\\tTTP1,\\tTTS2,\\tTTP2,\\tTTS3,\\tTTP3\\n\")\n",
    "for m in range(50):\n",
    "    ListOfSamples=[]\n",
    "    ListOfIndexes=[]\n",
    "    for j in range(1000):\n",
    "        ind=np.random.randint(0,1699)\n",
    "        ListOfSamples.append(X_test[ind])\n",
    "        ListOfIndexes.append(Y_test[ind])\n",
    "    ListOfSamples=np.array(ListOfSamples)\n",
    "    ModPred=np.argmax(model.predict(ListOfSamples),axis=1)\n",
    "    ModPred=np.array(ModPred)\n",
    "    ModBin=[]\n",
    "    MBP=0\n",
    "    for i in range (len(ListOfIndexes)):\n",
    "        if (ListOfIndexes[i]==ModPred[i]):\n",
    "            ModBin.append(0)\n",
    "            MBP+=1\n",
    "        else:\n",
    "            ModBin.append(1)\n",
    "    ModPred1=model1.predict(ListOfSamples)\n",
    "    ModBin1=[]\n",
    "    MBP1=0\n",
    "    for i in range (len(ListOfIndexes)):\n",
    "        if (ListOfIndexes[i]==ModPred1[i]):\n",
    "            ModBin1.append(0)\n",
    "            MBP1+=1\n",
    "        else:\n",
    "            ModBin1.append(1)\n",
    "    ModPred2=model2.predict(ListOfSamples)\n",
    "    ModBin2=[]\n",
    "    MBP2=0\n",
    "    for i in range (len(ListOfIndexes)):\n",
    "        if (ListOfIndexes[i]==ModPred2[i]):\n",
    "            ModBin2.append(0)\n",
    "            MBP2+=1\n",
    "        else:\n",
    "            ModBin2.append(1)\n",
    "    T1,tp1=stats.ttest_rel(ModBin2,ModBin)\n",
    "    T2,tp2=stats.ttest_rel(ModBin2,ModBin1)\n",
    "    T3,tp3=stats.ttest_rel(ModBin1,ModBin)\n",
    "    fl.write(str(m)+',\\t'+str(MBP)+',\\t'+str(MBP1)+',\\t'+str(MBP2)+',\\t'+str(T1)+',\\t'+str(tp1)+',\\t'+str(T2)+',\\t'+str(tp2)+',\\t'+str(T3)\n",
    "        +',\\t'+str(tp3)+'\\n')\n",
    "    print(\"i\",m)\n",
    "fl.close()"
   ]
  },
  {
   "cell_type": "code",
   "execution_count": 4,
   "metadata": {},
   "outputs": [
    {
     "name": "stdout",
     "output_type": "stream",
     "text": [
      "[[ 57   0   9   8  62  11   1   0  15   7]\n",
      " [  4 121   0  11  15   2   5   1   4   7]\n",
      " [ 21   0  10   6 111  20   0   0   2   0]\n",
      " [  1   0   0 145  13   5   0   0   6   0]\n",
      " [  3   0   0   4 160   2   0   0   0   1]\n",
      " [  9   0   0  18  81  53   0   1   5   3]\n",
      " [ 16   0  19   9  56   3  18   2   1  46]\n",
      " [ 11   0  23   5  85   5   0  23   1  17]\n",
      " [  0   0   0  76   0  19   0   0  75   0]\n",
      " [  2   0   0  51  74   1   6   0  10  26]]\n"
     ]
    }
   ],
   "source": [
    "# Confusion matrix create and test\n",
    "from sklearn.metrics import confusion_matrix\n",
    "yp=model.predict(X_test)\n",
    "Pt1=np.argmax(yp,axis=1)\n",
    "cm1=confusion_matrix(Y_test,Pt1)\n",
    "Pt2=model1.predict(X_test)\n",
    "cm2=confusion_matrix(Y_test,Pt2)\n",
    "Pt3=model2.predict(X_test)\n",
    "cm3=confusion_matrix(Y_test,Pt3)\n",
    "print(cm3)"
   ]
  },
  {
   "cell_type": "code",
   "execution_count": 20,
   "metadata": {},
   "outputs": [],
   "source": [
    "# Import custom module with class for comparing of two confusion matrix\n",
    "from machinelearning import confmatcomp"
   ]
  },
  {
   "cell_type": "code",
   "execution_count": 21,
   "metadata": {},
   "outputs": [
    {
     "name": "stdout",
     "output_type": "stream",
     "text": [
      "\n",
      "    Purpose:\n",
      "    A class implementing confusion matrix comparison.\n",
      "    \n",
      "    Desription:\n",
      "    You need to give two matrices as input argument and run various tests\n",
      "    implemented as methods of the class.\n",
      "    \n",
      "    Implemented test methods are:\n",
      "    1) Single binomial contrast (called by: Test_instance_name.single_binomial_contrast(args) )\n",
      "    2) Mutiple binomial contrast (called by: Test_instance_name.multiple_binomials_contrast(args) )\n",
      "    3) Overall chi-square test (called by Test_instance_name.chi_square(args))\n",
      "    \n",
      "    Reference: \n",
      "    J. Rodrigues-Avi et al., \"Methods for comparing two observed conusion matrices\",...(201X)\n",
      "    \n",
      "    \n",
      "\n",
      "        Function: multiple_binomials_contrast\n",
      "        \n",
      "        Purpose:\n",
      "        This test makes individual tests by rows or columns.\n",
      "        Default is test by columns.\n",
      "           \n",
      "        Description:\n",
      "        We split problem into k-null hypotheses.\n",
      "        Then we find Z estimator and fit it to normal distribution.\n",
      "        After that k p-values are obtained, where k is the matrix size.\n",
      "        p-values are then corrected using Bonferonni's correction to assure\n",
      "        Type I error level.\n",
      "           \n",
      "        Arguments:\n",
      "        tol - tolerance for pairwise comparison (eg. tol=1e-6)\n",
      "        column - (optional) True/False, if true column-wise estimators\n",
      "        are produced, if false rwo-wise estimators are produced.\n",
      "        \n"
     ]
    }
   ],
   "source": [
    "# Chose two CM to compare\n",
    "Test = confmatcomp(cm1,cm2)\n",
    "print(Test.__doc__)\n",
    "print(Test.multiple_binomials_contrast.__doc__)"
   ]
  },
  {
   "cell_type": "code",
   "execution_count": 22,
   "metadata": {},
   "outputs": [
    {
     "name": "stdout",
     "output_type": "stream",
     "text": [
      "Total number of elements classified in A: 1700, and B: 1700\n"
     ]
    }
   ],
   "source": [
    "Test.get_nm()"
   ]
  },
  {
   "cell_type": "code",
   "execution_count": 23,
   "metadata": {},
   "outputs": [
    {
     "name": "stdout",
     "output_type": "stream",
     "text": [
      "Null hypothesis is that these two proportions are the same.\n",
      "Concordant elements proportion in 1st matrix: 0.790588\n",
      "Concordant elements proportion in 2nd matrix: 0.751765\n",
      "Global proportion of concordant elements differs by: 0.0388235294117647, \n",
      "Null hypothesis rejected!\n"
     ]
    }
   ],
   "source": [
    "tolerance = 1e-6\n",
    "Test.single_binomial_contrast(tolerance)"
   ]
  },
  {
   "cell_type": "code",
   "execution_count": 24,
   "metadata": {},
   "outputs": [
    {
     "name": "stdout",
     "output_type": "stream",
     "text": [
      "\n",
      "Column-wise estimators for 1st and 2nd matrix and k-th null hypothesis testing:\n",
      "\n",
      "Column 0 : 0.6712328767123288 0.7948717948717948 False\n",
      "Column 1 : 0.9310344827586207 1.0 False\n",
      "Column 2 : 0.5885167464114832 0.6721311475409836 False\n",
      "Column 3 : 0.8841463414634146 0.9007633587786259 False\n",
      "Column 4 : 0.8867924528301887 0.6631016042780749 False\n",
      "Column 5 : 0.8136645962732919 0.6775956284153005 False\n",
      "Column 6 : 0.7176470588235294 0.599009900990099 False\n",
      "Column 7 : 0.84 0.7908496732026143 False\n",
      "Column 8 : 0.9021739130434783 0.8770053475935828 False\n",
      "Column 9 : 0.7103825136612022 0.6616161616161617 False\n"
     ]
    },
    {
     "data": {
      "image/png": "[encoded data removed]",
      "text/plain": [
       "<Figure size 432x288 with 1 Axes>"
      ]
     },
     "metadata": {
      "needs_background": "light"
     },
     "output_type": "display_data"
    },
    {
     "name": "stdout",
     "output_type": "stream",
     "text": [
      "\n",
      "k p-values and Bonferonni's correction:\n",
      "\n",
      "0 : 0.0218 0.0022\n",
      "1 : 0.0003 0.0000\n",
      "2 : 0.0854 0.0085\n",
      "3 : 0.6458 0.0646\n",
      "4 : 0.0000 0.0000\n",
      "5 : 0.0032 0.0003\n",
      "6 : 0.0150 0.0015\n",
      "7 : 0.2690 0.0269\n",
      "8 : 0.4387 0.0439\n",
      "9 : 0.3044 0.0304\n",
      "\n",
      "Row-wise estimators for 1st and 2nd matrix and k-th null hypothesis testing:\n",
      "\n",
      "Row 0 : 0.5764705882352941 0.5470588235294118 False\n",
      "Row 1 : 0.9529411764705882 0.9352941176470588 False\n",
      "Row 2 : 0.7235294117647059 0.7235294117647059 True\n",
      "Row 3 : 0.8529411764705882 0.6941176470588235 False\n",
      "Row 4 : 0.8294117647058824 0.7294117647058823 False\n",
      "Row 5 : 0.7705882352941177 0.7294117647058823 False\n",
      "Row 6 : 0.7176470588235294 0.711764705882353 False\n",
      "Row 7 : 0.7411764705882353 0.711764705882353 False\n",
      "Row 8 : 0.9764705882352941 0.9647058823529412 False\n",
      "Row 9 : 0.7647058823529411 0.7705882352941177 False\n"
     ]
    },
    {
     "data": {
      "image/png": "[encoded data removed]",
      "text/plain": [
       "<Figure size 432x288 with 1 Axes>"
      ]
     },
     "metadata": {
      "needs_background": "light"
     },
     "output_type": "display_data"
    },
    {
     "name": "stdout",
     "output_type": "stream",
     "text": [
      "\n",
      "k p-values and Bonferonni's correction:\n",
      "\n",
      "0 : 0.5845 0.0585\n",
      "1 : 0.4784 0.0478\n",
      "2 : 1.0000 0.1000\n",
      "3 : 0.0004 0.0000\n",
      "4 : 0.0251 0.0025\n",
      "5 : 0.3801 0.0380\n",
      "6 : 0.9044 0.0904\n",
      "7 : 0.5428 0.0543\n",
      "8 : 0.5206 0.0521\n",
      "9 : 0.8978 0.0898\n"
     ]
    }
   ],
   "source": [
    "Test.multiple_binomials_contrast(tolerance)\n",
    "\n",
    "Test.multiple_binomials_contrast(tolerance,column=False)"
   ]
  },
  {
   "cell_type": "code",
   "execution_count": 25,
   "metadata": {},
   "outputs": [
    {
     "name": "stdout",
     "output_type": "stream",
     "text": [
      "Chi-squred test statistic: 94.981, p-value of the test:  1.622572250200868e-16\n"
     ]
    }
   ],
   "source": [
    "Test.chi_square()"
   ]
  },
  {
   "cell_type": "code",
   "execution_count": 26,
   "metadata": {},
   "outputs": [
    {
     "name": "stdout",
     "output_type": "stream",
     "text": [
      "Estimate distance between vectors: 107.760063, 1465536.852274\n"
     ]
    }
   ],
   "source": [
    "Test.multinomial_distance_bootstrap()"
   ]
  },
  {
   "cell_type": "code",
   "execution_count": null,
   "metadata": {},
   "outputs": [],
   "source": []
  }
 ],
 "metadata": {
  "kernelspec": {
   "display_name": "Python 3",
   "language": "python",
   "name": "python3"
  },
  "language_info": {
   "codemirror_mode": {
    "name": "ipython",
    "version": 3
   },
   "file_extension": ".py",
   "mimetype": "text/x-python",
   "name": "python",
   "nbconvert_exporter": "python",
   "pygments_lexer": "ipython3",
   "version": "3.7.4"
  }
 },
 "nbformat": 4,
 "nbformat_minor": 2
}
